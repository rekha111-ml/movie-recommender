{
  "cells": [
    {
      "cell_type": "markdown",
      "metadata": {
        "id": "view-in-github",
        "colab_type": "text"
      },
      "source": [
        "<a href=\"https://colab.research.google.com/github/rekha111-ml/movie-recommender/blob/main/GKBLabs.ipynb\" target=\"_parent\"><img src=\"https://colab.research.google.com/assets/colab-badge.svg\" alt=\"Open In Colab\"/></a>"
      ]
    },
    {
      "cell_type": "markdown",
      "metadata": {
        "id": "KHnJItlvXFHT"
      },
      "source": [
        "#Movie Recommendation System Based on Collaborative Filtering"
      ]
    },
    {
      "cell_type": "code",
      "source": [
        "import pandas as pd\n",
        "import json\n",
        "\n",
        "# Load data\n",
        "movies = pd.read_csv(\"/content/sample_data/movies_metadata.csv (1).zip\")\n",
        "ratings = pd.read_csv(\"/content/sample_data/ratings_small.csv (1).zip\")\n",
        "\n",
        "# Check first few rows\n",
        "print(movies.head())\n",
        "print(ratings.head())\n",
        "\n",
        "# Convert 'id' in movies to numeric, coercing errors\n",
        "movies['id'] = pd.to_numeric(movies['id'], errors='coerce')\n",
        "\n",
        "# Drop rows with NaN in 'id' after coercion\n",
        "movies.dropna(subset=['id'], inplace=True)\n",
        "\n",
        "# Convert 'id' to int64 to match 'movieId' type\n",
        "movies['id'] = movies['id'].astype(int)\n",
        "\n",
        "\n",
        "# Merge on movieId\n",
        "merged_df = pd.merge(movies, ratings, left_on=\"id\", right_on=\"movieId\")\n",
        "\n",
        "# Drop unnecessary columns if needed\n",
        "merged_df = merged_df[['title', 'genres', 'rating']]\n",
        "\n",
        "# Parse the 'genres' column\n",
        "def parse_genres(genre_list_str):\n",
        "    try:\n",
        "        # Safely evaluate the string representation of the list\n",
        "        genre_list = json.loads(genre_list_str.replace(\"'\", '\"'))\n",
        "        # Extract genre names\n",
        "        return [genre['name'] for genre in genre_list]\n",
        "    except (json.JSONDecodeError, TypeError):\n",
        "        return []\n",
        "\n",
        "merged_df['genres'] = merged_df['genres'].apply(parse_genres)\n",
        "\n",
        "# Remove rows with empty genre lists\n",
        "merged_df = merged_df[merged_df['genres'].apply(lambda x: len(x) > 0)]\n",
        "\n",
        "# Explode the genres column\n",
        "merged_df = merged_df.explode('genres')\n",
        "\n",
        "print(merged_df.head())\n",
        "\n",
        "def recommend_movies(selected_genres, top_n=5):\n",
        "    # Filter by selected genres\n",
        "    filtered = merged_df[merged_df['genres'].isin(selected_genres)]\n",
        "\n",
        "    # Group by title and calculate average rating\n",
        "    recommendations = (filtered.groupby('title')\n",
        "                              .agg({'rating': 'mean'})\n",
        "                              .reset_index()\n",
        "                              .sort_values(by='rating', ascending=False))\n",
        "\n",
        "    # Display top N\n",
        "    return recommendations.head(top_n)\n",
        "\n",
        "def main():\n",
        "    unique_genres = merged_df['genres'].unique()\n",
        "    print(\"Available genres:\")\n",
        "    print(\", \".join(unique_genres))\n",
        "\n",
        "    # Get input from user\n",
        "    selected = input(\"\\nEnter your preferred genres separated by commas: \").split(',')\n",
        "    selected = [g.strip() for g in selected]\n",
        "\n",
        "    print(f\"\\nTop movies for genres: {', '.join(selected)}\\n\")\n",
        "    results = recommend_movies(selected)\n",
        "\n",
        "    if not results.empty:\n",
        "        print(results.to_string(index=False))\n",
        "    else:\n",
        "        print(\"No movies found for the selected genres.\")\n",
        "\n",
        "main()"
      ],
      "metadata": {
        "colab": {
          "base_uri": "https://localhost:8080/"
        },
        "id": "LquNm3t8fBrf",
        "outputId": "11318273-ac04-4482-cbb3-50b13d008e82"
      },
      "execution_count": null,
      "outputs": [
        {
          "metadata": {
            "tags": null
          },
          "name": "stderr",
          "output_type": "stream",
          "text": [
            "/tmp/ipython-input-10-1413658146.py:5: DtypeWarning: Columns (10) have mixed types. Specify dtype option on import or set low_memory=False.\n",
            "  movies = pd.read_csv(\"/content/sample_data/movies_metadata.csv (1).zip\")\n"
          ]
        },
        {
          "metadata": {
            "tags": null
          },
          "name": "stdout",
          "output_type": "stream",
          "text": [
            "   adult                              belongs_to_collection    budget  \\\n",
            "0  False  {'id': 10194, 'name': 'Toy Story Collection', ...  30000000   \n",
            "1  False                                                NaN  65000000   \n",
            "2  False  {'id': 119050, 'name': 'Grumpy Old Men Collect...         0   \n",
            "3  False                                                NaN  16000000   \n",
            "4  False  {'id': 96871, 'name': 'Father of the Bride Col...         0   \n",
            "\n",
            "                                              genres  \\\n",
            "0  [{'id': 16, 'name': 'Animation'}, {'id': 35, '...   \n",
            "1  [{'id': 12, 'name': 'Adventure'}, {'id': 14, '...   \n",
            "2  [{'id': 10749, 'name': 'Romance'}, {'id': 35, ...   \n",
            "3  [{'id': 35, 'name': 'Comedy'}, {'id': 18, 'nam...   \n",
            "4                     [{'id': 35, 'name': 'Comedy'}]   \n",
            "\n",
            "                               homepage     id    imdb_id original_language  \\\n",
            "0  http://toystory.disney.com/toy-story    862  tt0114709                en   \n",
            "1                                   NaN   8844  tt0113497                en   \n",
            "2                                   NaN  15602  tt0113228                en   \n",
            "3                                   NaN  31357  tt0114885                en   \n",
            "4                                   NaN  11862  tt0113041                en   \n",
            "\n",
            "                original_title  \\\n",
            "0                    Toy Story   \n",
            "1                      Jumanji   \n",
            "2             Grumpier Old Men   \n",
            "3            Waiting to Exhale   \n",
            "4  Father of the Bride Part II   \n",
            "\n",
            "                                            overview  ... release_date  \\\n",
            "0  Led by Woody, Andy's toys live happily in his ...  ...   1995-10-30   \n",
            "1  When siblings Judy and Peter discover an encha...  ...   1995-12-15   \n",
            "2  A family wedding reignites the ancient feud be...  ...   1995-12-22   \n",
            "3  Cheated on, mistreated and stepped on, the wom...  ...   1995-12-22   \n",
            "4  Just when George Banks has recovered from his ...  ...   1995-02-10   \n",
            "\n",
            "       revenue runtime                                   spoken_languages  \\\n",
            "0  373554033.0    81.0           [{'iso_639_1': 'en', 'name': 'English'}]   \n",
            "1  262797249.0   104.0  [{'iso_639_1': 'en', 'name': 'English'}, {'iso...   \n",
            "2          0.0   101.0           [{'iso_639_1': 'en', 'name': 'English'}]   \n",
            "3   81452156.0   127.0           [{'iso_639_1': 'en', 'name': 'English'}]   \n",
            "4   76578911.0   106.0           [{'iso_639_1': 'en', 'name': 'English'}]   \n",
            "\n",
            "     status                                            tagline  \\\n",
            "0  Released                                                NaN   \n",
            "1  Released          Roll the dice and unleash the excitement!   \n",
            "2  Released  Still Yelling. Still Fighting. Still Ready for...   \n",
            "3  Released  Friends are the people who let you be yourself...   \n",
            "4  Released  Just When His World Is Back To Normal... He's ...   \n",
            "\n",
            "                         title  video vote_average vote_count  \n",
            "0                    Toy Story  False          7.7     5415.0  \n",
            "1                      Jumanji  False          6.9     2413.0  \n",
            "2             Grumpier Old Men  False          6.5       92.0  \n",
            "3            Waiting to Exhale  False          6.1       34.0  \n",
            "4  Father of the Bride Part II  False          5.7      173.0  \n",
            "\n",
            "[5 rows x 24 columns]\n",
            "   userId  movieId  rating   timestamp\n",
            "0       1       31     2.5  1260759144\n",
            "1       1     1029     3.0  1260759179\n",
            "2       1     1061     3.0  1260759182\n",
            "3       1     1129     2.0  1260759185\n",
            "4       1     1172     4.0  1260759205\n",
            "  title    genres  rating\n",
            "0  Heat    Action     3.5\n",
            "0  Heat     Crime     3.5\n",
            "0  Heat     Drama     3.5\n",
            "0  Heat  Thriller     3.5\n",
            "1  Heat    Action     4.0\n",
            "Available genres:\n",
            "Action, Crime, Drama, Thriller, Adventure, Romance, Comedy, Fantasy, Science Fiction, Mystery, Music, Family, Horror, Documentary, History, War, Western, Animation, Foreign, TV Movie\n"
          ]
        }
      ]
    }
  ],
  "metadata": {
    "colab": {
      "provenance": [],
      "authorship_tag": "ABX9TyPA9sWEZvbWT9Zbtz4fjXL4",
      "include_colab_link": true
    },
    "kernelspec": {
      "display_name": "Python 3",
      "name": "python3"
    },
    "language_info": {
      "name": "python"
    }
  },
  "nbformat": 4,
  "nbformat_minor": 0
}